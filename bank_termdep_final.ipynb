{
 "cells": [
  {
   "cell_type": "raw",
   "metadata": {},
   "source": [
    "Term Deposit Prediction Model"
   ]
  },
  {
   "cell_type": "code",
   "execution_count": 23,
   "metadata": {},
   "outputs": [],
   "source": [
    "# Import libraries\n",
    "import csv\n",
    "import pandas as pd\n",
    "import numpy as np\n",
    "from sklearn.model_selection import train_test_split\n",
    "from sklearn.preprocessing import LabelEncoder\n",
    "import tensorflow as tf"
   ]
  },
  {
   "cell_type": "code",
   "execution_count": 24,
   "metadata": {},
   "outputs": [],
   "source": [
    "# load data\n",
    "data = pd.read_csv(\"bank-additional.csv\", delimiter=\";\")"
   ]
  },
  {
   "cell_type": "code",
   "execution_count": 25,
   "metadata": {},
   "outputs": [],
   "source": [
    "# Select attributes\n",
    "# X from column 0 to 10\n",
    "# Y for column 21\n",
    "x = data.iloc[:, 0:10].values\n",
    "y = data.iloc[:, -1].values\n"
   ]
  },
  {
   "cell_type": "code",
   "execution_count": 26,
   "metadata": {},
   "outputs": [],
   "source": [
    "# Encode the classes\n",
    "le = LabelEncoder()\n",
    "x[:, 1] = le.fit_transform(x[:, 1])\n",
    "x[:, 2] = le.fit_transform(x[:, 2])\n",
    "x[:, 3] = le.fit_transform(x[:, 3])\n",
    "x[:, 4] = le.fit_transform(x[:, 4])\n",
    "x[:, 5] = le.fit_transform(x[:, 5])\n",
    "x[:, 6] = le.fit_transform(x[:, 6])\n",
    "x[:, 7] = le.fit_transform(x[:, 7])\n",
    "x[:, 8] = le.fit_transform(x[:, 8])\n",
    "x[:, 9] = le.fit_transform(x[:, 9])\n",
    "y[:] = le.fit_transform(y[:])\n"
   ]
  },
  {
   "cell_type": "code",
   "execution_count": 27,
   "metadata": {},
   "outputs": [],
   "source": [
    "# Make into array\n",
    "x = np.array(x)\n",
    "y = np.array(y)\n"
   ]
  },
  {
   "cell_type": "code",
   "execution_count": 28,
   "metadata": {},
   "outputs": [],
   "source": [
    "# Split train and test\n",
    "X_train, X_test, Y_train, Y_test = train_test_split(x, y, test_size=0.3)\n",
    "X_train = np.array(X_train, np.float32)\n",
    "X_test = np.array(X_test, np.float32)\n",
    "Y_train = np.array(Y_train, np.float32)\n",
    "Y_test = np.array(Y_test, np.float32)"
   ]
  },
  {
   "cell_type": "code",
   "execution_count": 29,
   "metadata": {},
   "outputs": [],
   "source": [
    "# Setting Model\n",
    "model = Sequential()\n",
    "model.add(Dense(10, input_shape = (10,), activation = 'sigmoid'))\n",
    "model.add(Dense(10, activation = 'sigmoid'))\n",
    "model.add(Dense(10, activation = 'sigmoid'))\n",
    "model.add(Dense(1, activation = 'sigmoid'))"
   ]
  },
  {
   "cell_type": "code",
   "execution_count": null,
   "metadata": {},
   "outputs": [],
   "source": [
    "# Optimizer\n",
    "sgd = optimizers.SGD(lr = 0.001)    # stochastic gradient descent optimizer\n",
    "model.compile(optimizer = sgd, loss = 'binary_crossentropy', metrics = ['acc'])"
   ]
  },
  {
   "cell_type": "code",
   "execution_count": 30,
   "metadata": {},
   "outputs": [
    {
     "name": "stdout",
     "output_type": "stream",
     "text": [
      "Model: \"sequential_2\"\n",
      "_________________________________________________________________\n",
      "Layer (type)                 Output Shape              Param #   \n",
      "=================================================================\n",
      "dense_8 (Dense)              (None, 10)                110       \n",
      "_________________________________________________________________\n",
      "dense_9 (Dense)              (None, 10)                110       \n",
      "_________________________________________________________________\n",
      "dense_10 (Dense)             (None, 10)                110       \n",
      "_________________________________________________________________\n",
      "dense_11 (Dense)             (None, 1)                 11        \n",
      "=================================================================\n",
      "Total params: 341\n",
      "Trainable params: 341\n",
      "Non-trainable params: 0\n",
      "_________________________________________________________________\n"
     ]
    }
   ],
   "source": [
    "# Check model parameters\n",
    "model.summary()"
   ]
  },
  {
   "cell_type": "code",
   "execution_count": 31,
   "metadata": {},
   "outputs": [
    {
     "name": "stdout",
     "output_type": "stream",
     "text": [
      "Epoch 1/100\n",
      "58/58 [==============================] - 0s 464us/step - loss: 0.4211 - acc: 0.8897\n",
      "Epoch 2/100\n",
      "58/58 [==============================] - 0s 430us/step - loss: 0.4156 - acc: 0.8897\n",
      "Epoch 3/100\n",
      "58/58 [==============================] - 0s 448us/step - loss: 0.4106 - acc: 0.8897\n",
      "Epoch 4/100\n",
      "58/58 [==============================] - 0s 429us/step - loss: 0.4060 - acc: 0.8897\n",
      "Epoch 5/100\n",
      "58/58 [==============================] - 0s 438us/step - loss: 0.4018 - acc: 0.8897\n",
      "Epoch 6/100\n",
      "58/58 [==============================] - 0s 429us/step - loss: 0.3979 - acc: 0.8897\n",
      "Epoch 7/100\n",
      "58/58 [==============================] - 0s 429us/step - loss: 0.3943 - acc: 0.8897\n",
      "Epoch 8/100\n",
      "58/58 [==============================] - 0s 430us/step - loss: 0.3911 - acc: 0.8897\n",
      "Epoch 9/100\n",
      "58/58 [==============================] - 0s 447us/step - loss: 0.3881 - acc: 0.8897\n",
      "Epoch 10/100\n",
      "58/58 [==============================] - 0s 413us/step - loss: 0.3853 - acc: 0.8897\n",
      "Epoch 11/100\n",
      "58/58 [==============================] - 0s 429us/step - loss: 0.3827 - acc: 0.8897\n",
      "Epoch 12/100\n",
      "58/58 [==============================] - 0s 429us/step - loss: 0.3803 - acc: 0.8897\n",
      "Epoch 13/100\n",
      "58/58 [==============================] - 0s 481us/step - loss: 0.3781 - acc: 0.8897\n",
      "Epoch 14/100\n",
      "58/58 [==============================] - 0s 465us/step - loss: 0.3761 - acc: 0.8897\n",
      "Epoch 15/100\n",
      "58/58 [==============================] - 0s 447us/step - loss: 0.3742 - acc: 0.8897\n",
      "Epoch 16/100\n",
      "58/58 [==============================] - 0s 447us/step - loss: 0.3725 - acc: 0.8897\n",
      "Epoch 17/100\n",
      "58/58 [==============================] - 0s 447us/step - loss: 0.3709 - acc: 0.8897\n",
      "Epoch 18/100\n",
      "58/58 [==============================] - 0s 430us/step - loss: 0.3694 - acc: 0.8897\n",
      "Epoch 19/100\n",
      "58/58 [==============================] - 0s 447us/step - loss: 0.3680 - acc: 0.8897\n",
      "Epoch 20/100\n",
      "58/58 [==============================] - 0s 447us/step - loss: 0.3667 - acc: 0.8897\n",
      "Epoch 21/100\n",
      "58/58 [==============================] - 0s 430us/step - loss: 0.3655 - acc: 0.8897\n",
      "Epoch 22/100\n",
      "58/58 [==============================] - 0s 447us/step - loss: 0.3643 - acc: 0.8897\n",
      "Epoch 23/100\n",
      "58/58 [==============================] - 0s 447us/step - loss: 0.3633 - acc: 0.8897\n",
      "Epoch 24/100\n",
      "58/58 [==============================] - 0s 430us/step - loss: 0.3623 - acc: 0.8897\n",
      "Epoch 25/100\n",
      "58/58 [==============================] - 0s 430us/step - loss: 0.3614 - acc: 0.8897\n",
      "Epoch 26/100\n",
      "58/58 [==============================] - 0s 430us/step - loss: 0.3606 - acc: 0.8897\n",
      "Epoch 27/100\n",
      "58/58 [==============================] - 0s 447us/step - loss: 0.3598 - acc: 0.8897\n",
      "Epoch 28/100\n",
      "58/58 [==============================] - 0s 465us/step - loss: 0.3590 - acc: 0.8897\n",
      "Epoch 29/100\n",
      "58/58 [==============================] - 0s 430us/step - loss: 0.3583 - acc: 0.8897\n",
      "Epoch 30/100\n",
      "58/58 [==============================] - 0s 430us/step - loss: 0.3577 - acc: 0.8897\n",
      "Epoch 31/100\n",
      "58/58 [==============================] - 0s 447us/step - loss: 0.3571 - acc: 0.8897\n",
      "Epoch 32/100\n",
      "58/58 [==============================] - 0s 447us/step - loss: 0.3565 - acc: 0.8897\n",
      "Epoch 33/100\n",
      "58/58 [==============================] - 0s 498us/step - loss: 0.3559 - acc: 0.8897\n",
      "Epoch 34/100\n",
      "58/58 [==============================] - 0s 464us/step - loss: 0.3554 - acc: 0.8897\n",
      "Epoch 35/100\n",
      "58/58 [==============================] - 0s 447us/step - loss: 0.3550 - acc: 0.8897\n",
      "Epoch 36/100\n",
      "58/58 [==============================] - 0s 430us/step - loss: 0.3545 - acc: 0.8897\n",
      "Epoch 37/100\n",
      "58/58 [==============================] - 0s 464us/step - loss: 0.3541 - acc: 0.8897\n",
      "Epoch 38/100\n",
      "58/58 [==============================] - 0s 464us/step - loss: 0.3537 - acc: 0.8897\n",
      "Epoch 39/100\n",
      "58/58 [==============================] - 0s 447us/step - loss: 0.3533 - acc: 0.8897\n",
      "Epoch 40/100\n",
      "58/58 [==============================] - 0s 447us/step - loss: 0.3530 - acc: 0.8897\n",
      "Epoch 41/100\n",
      "58/58 [==============================] - 0s 447us/step - loss: 0.3527 - acc: 0.8897\n",
      "Epoch 42/100\n",
      "58/58 [==============================] - 0s 447us/step - loss: 0.3524 - acc: 0.8897\n",
      "Epoch 43/100\n",
      "58/58 [==============================] - 0s 481us/step - loss: 0.3521 - acc: 0.8897\n",
      "Epoch 44/100\n",
      "58/58 [==============================] - 0s 447us/step - loss: 0.3518 - acc: 0.8897\n",
      "Epoch 45/100\n",
      "58/58 [==============================] - 0s 447us/step - loss: 0.3515 - acc: 0.8897\n",
      "Epoch 46/100\n",
      "58/58 [==============================] - 0s 481us/step - loss: 0.3513 - acc: 0.8897\n",
      "Epoch 47/100\n",
      "58/58 [==============================] - 0s 447us/step - loss: 0.3511 - acc: 0.8897\n",
      "Epoch 48/100\n",
      "58/58 [==============================] - 0s 430us/step - loss: 0.3509 - acc: 0.8897\n",
      "Epoch 49/100\n",
      "58/58 [==============================] - 0s 430us/step - loss: 0.3507 - acc: 0.8897\n",
      "Epoch 50/100\n",
      "58/58 [==============================] - 0s 430us/step - loss: 0.3505 - acc: 0.8897\n",
      "Epoch 51/100\n",
      "58/58 [==============================] - 0s 464us/step - loss: 0.3503 - acc: 0.8897\n",
      "Epoch 52/100\n",
      "58/58 [==============================] - 0s 464us/step - loss: 0.3501 - acc: 0.8897\n",
      "Epoch 53/100\n",
      "58/58 [==============================] - 0s 464us/step - loss: 0.3500 - acc: 0.8897\n",
      "Epoch 54/100\n",
      "58/58 [==============================] - 0s 413us/step - loss: 0.3498 - acc: 0.8897\n",
      "Epoch 55/100\n",
      "58/58 [==============================] - 0s 447us/step - loss: 0.3497 - acc: 0.8897\n",
      "Epoch 56/100\n",
      "58/58 [==============================] - 0s 447us/step - loss: 0.3495 - acc: 0.8897\n",
      "Epoch 57/100\n",
      "58/58 [==============================] - 0s 430us/step - loss: 0.3494 - acc: 0.8897\n",
      "Epoch 58/100\n",
      "58/58 [==============================] - 0s 447us/step - loss: 0.3493 - acc: 0.8897\n",
      "Epoch 59/100\n",
      "58/58 [==============================] - 0s 447us/step - loss: 0.3492 - acc: 0.8897\n",
      "Epoch 60/100\n",
      "58/58 [==============================] - 0s 430us/step - loss: 0.3491 - acc: 0.8897\n",
      "Epoch 61/100\n",
      "58/58 [==============================] - 0s 450us/step - loss: 0.3490 - acc: 0.8897\n",
      "Epoch 62/100\n",
      "58/58 [==============================] - 0s 430us/step - loss: 0.3489 - acc: 0.8897\n",
      "Epoch 63/100\n",
      "58/58 [==============================] - 0s 429us/step - loss: 0.3488 - acc: 0.8897\n",
      "Epoch 64/100\n",
      "58/58 [==============================] - 0s 430us/step - loss: 0.3487 - acc: 0.8897\n",
      "Epoch 65/100\n",
      "58/58 [==============================] - 0s 464us/step - loss: 0.3486 - acc: 0.8897\n",
      "Epoch 66/100\n",
      "58/58 [==============================] - 0s 430us/step - loss: 0.3485 - acc: 0.8897\n",
      "Epoch 67/100\n",
      "58/58 [==============================] - 0s 447us/step - loss: 0.3485 - acc: 0.8897\n",
      "Epoch 68/100\n",
      "58/58 [==============================] - 0s 430us/step - loss: 0.3484 - acc: 0.8897\n",
      "Epoch 69/100\n",
      "58/58 [==============================] - 0s 430us/step - loss: 0.3483 - acc: 0.8897\n",
      "Epoch 70/100\n",
      "58/58 [==============================] - 0s 447us/step - loss: 0.3483 - acc: 0.8897\n",
      "Epoch 71/100\n",
      "58/58 [==============================] - 0s 430us/step - loss: 0.3482 - acc: 0.8897\n",
      "Epoch 72/100\n",
      "58/58 [==============================] - 0s 465us/step - loss: 0.3482 - acc: 0.8897\n",
      "Epoch 73/100\n",
      "58/58 [==============================] - 0s 498us/step - loss: 0.3481 - acc: 0.8897\n",
      "Epoch 74/100\n",
      "58/58 [==============================] - 0s 464us/step - loss: 0.3481 - acc: 0.8897\n",
      "Epoch 75/100\n",
      "58/58 [==============================] - 0s 447us/step - loss: 0.3480 - acc: 0.8897\n",
      "Epoch 76/100\n",
      "58/58 [==============================] - 0s 464us/step - loss: 0.3480 - acc: 0.8897\n",
      "Epoch 77/100\n",
      "58/58 [==============================] - 0s 464us/step - loss: 0.3479 - acc: 0.8897\n",
      "Epoch 78/100\n",
      "58/58 [==============================] - 0s 447us/step - loss: 0.3479 - acc: 0.8897\n",
      "Epoch 79/100\n",
      "58/58 [==============================] - 0s 464us/step - loss: 0.3479 - acc: 0.8897\n",
      "Epoch 80/100\n",
      "58/58 [==============================] - 0s 447us/step - loss: 0.3478 - acc: 0.8897\n",
      "Epoch 81/100\n",
      "58/58 [==============================] - 0s 430us/step - loss: 0.3478 - acc: 0.8897\n",
      "Epoch 82/100\n",
      "58/58 [==============================] - 0s 430us/step - loss: 0.3478 - acc: 0.8897\n",
      "Epoch 83/100\n",
      "58/58 [==============================] - 0s 464us/step - loss: 0.3477 - acc: 0.8897\n",
      "Epoch 84/100\n",
      "58/58 [==============================] - 0s 447us/step - loss: 0.3477 - acc: 0.8897\n",
      "Epoch 85/100\n"
     ]
    },
    {
     "name": "stdout",
     "output_type": "stream",
     "text": [
      "58/58 [==============================] - 0s 447us/step - loss: 0.3477 - acc: 0.8897\n",
      "Epoch 86/100\n",
      "58/58 [==============================] - 0s 481us/step - loss: 0.3476 - acc: 0.8897\n",
      "Epoch 87/100\n",
      "58/58 [==============================] - 0s 464us/step - loss: 0.3476 - acc: 0.8897\n",
      "Epoch 88/100\n",
      "58/58 [==============================] - 0s 465us/step - loss: 0.3476 - acc: 0.8897\n",
      "Epoch 89/100\n",
      "58/58 [==============================] - 0s 464us/step - loss: 0.3476 - acc: 0.8897\n",
      "Epoch 90/100\n",
      "58/58 [==============================] - 0s 447us/step - loss: 0.3476 - acc: 0.8897\n",
      "Epoch 91/100\n",
      "58/58 [==============================] - 0s 447us/step - loss: 0.3475 - acc: 0.8897\n",
      "Epoch 92/100\n",
      "58/58 [==============================] - 0s 413us/step - loss: 0.3475 - acc: 0.8897\n",
      "Epoch 93/100\n",
      "58/58 [==============================] - 0s 447us/step - loss: 0.3475 - acc: 0.8897\n",
      "Epoch 94/100\n",
      "58/58 [==============================] - 0s 430us/step - loss: 0.3475 - acc: 0.8897\n",
      "Epoch 95/100\n",
      "58/58 [==============================] - 0s 430us/step - loss: 0.3475 - acc: 0.8897\n",
      "Epoch 96/100\n",
      "58/58 [==============================] - 0s 430us/step - loss: 0.3474 - acc: 0.8897\n",
      "Epoch 97/100\n",
      "58/58 [==============================] - 0s 447us/step - loss: 0.3474 - acc: 0.8897\n",
      "Epoch 98/100\n",
      "58/58 [==============================] - 0s 447us/step - loss: 0.3474 - acc: 0.8897\n",
      "Epoch 99/100\n",
      "58/58 [==============================] - 0s 429us/step - loss: 0.3474 - acc: 0.8897\n",
      "Epoch 100/100\n",
      "58/58 [==============================] - 0s 429us/step - loss: 0.3474 - acc: 0.8897\n"
     ]
    },
    {
     "data": {
      "text/plain": [
       "<tensorflow.python.keras.callbacks.History at 0x1d5e1570e50>"
      ]
     },
     "execution_count": 31,
     "metadata": {},
     "output_type": "execute_result"
    }
   ],
   "source": [
    "# Fit into model\n",
    "model.fit(X_train, Y_train, batch_size=50, epochs=100, verbose=1)"
   ]
  },
  {
   "cell_type": "code",
   "execution_count": 32,
   "metadata": {},
   "outputs": [
    {
     "name": "stdout",
     "output_type": "stream",
     "text": [
      "39/39 [==============================] - 0s 460us/step - loss: 0.3419 - acc: 0.8924\n",
      "[0.34193137288093567, 0.8923948407173157]\n"
     ]
    }
   ],
   "source": [
    "# Print the results\n",
    "results = model.evaluate(X_test, Y_test)\n",
    "print(results)"
   ]
  }
 ],
 "metadata": {
  "kernelspec": {
   "display_name": "Python 3",
   "language": "python",
   "name": "python3"
  },
  "language_info": {
   "codemirror_mode": {
    "name": "ipython",
    "version": 3
   },
   "file_extension": ".py",
   "mimetype": "text/x-python",
   "name": "python",
   "nbconvert_exporter": "python",
   "pygments_lexer": "ipython3",
   "version": "3.8.2"
  }
 },
 "nbformat": 4,
 "nbformat_minor": 4
}
